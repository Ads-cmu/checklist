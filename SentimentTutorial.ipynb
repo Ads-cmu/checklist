{
 "cells": [
  {
   "cell_type": "code",
   "execution_count": 1,
   "metadata": {},
   "outputs": [
    {
     "name": "stderr",
     "output_type": "stream",
     "text": [
      "/home/advaith/anaconda3/lib/python3.9/site-packages/torch/cuda/__init__.py:546: UserWarning: Can't initialize NVML\n",
      "  warnings.warn(\"Can't initialize NVML\")\n"
     ]
    }
   ],
   "source": [
    "import checklist\n",
    "from checklist.editor import Editor\n",
    "from checklist.perturb import Perturb\n",
    "from checklist.test_types import MFT, INV\n",
    "\n",
    "import numpy as np"
   ]
  },
  {
   "cell_type": "markdown",
   "metadata": {},
   "source": [
    "For this tutorial, we will assume that our task is sentiment analysis."
   ]
  },
  {
   "cell_type": "code",
   "execution_count": 2,
   "metadata": {},
   "outputs": [],
   "source": [
    "editor = Editor()"
   ]
  },
  {
   "cell_type": "markdown",
   "metadata": {},
   "source": [
    "## Minimum Functionality Test (MFT)"
   ]
  },
  {
   "cell_type": "markdown",
   "metadata": {},
   "source": [
    "A Minimum Functionality Test is like a unit test in Software Engineering.\n",
    "If you are testing a certain capability (e.g. 'can the model handle negation?'), an MFT is composed of simple examples that verify a specific behavior.  \n",
    "Let's create a very simple MFT for negations:"
   ]
  },
  {
   "cell_type": "code",
   "execution_count": 3,
   "metadata": {},
   "outputs": [
    {
     "name": "stderr",
     "output_type": "stream",
     "text": [
      "/home/advaith/anaconda3/lib/python3.9/site-packages/checklist/text_generation.py:171: UserWarning: Creating a tensor from a list of numpy.ndarrays is extremely slow. Please consider converting the list to a single numpy.ndarray with numpy.array() before converting to a tensor. (Triggered internally at ../torch/csrc/utils/tensor_new.cpp:245.)\n",
      "  to_pred = torch.tensor(to_pred, device=self.device).to(torch.int64)\n"
     ]
    },
    {
     "data": {
      "text/plain": [
       "'easy, ordinary, original, good, interesting, action, exciting, enjoyable, independent, innocent, average, entertaining, actual, old, ideal, great, normal, unusual, excellent, adult, introductory, individual, animated, origin, epic, new, amazing, acceptable, alternative, anime'"
      ]
     },
     "execution_count": 3,
     "metadata": {},
     "output_type": "execute_result"
    }
   ],
   "source": [
    "# First, let's find some positive and negative adjectives\n",
    "thing = ['plot', 'movie', 'show', 'storyline']\n",
    "', '.join(editor.suggest('This is not {a:mask} {thing}.', thing=thing)[:30])"
   ]
  },
  {
   "cell_type": "code",
   "execution_count": 4,
   "metadata": {},
   "outputs": [],
   "source": [
    "pos = ['original','interesting','entertaining','lovely','good', 'enjoyable', 'exciting', 'excellent', 'amazing', 'great', 'engaging']\n",
    "neg = ['bad', 'terrible', 'awful', 'horrible','boring','unoriginal','sleep-inducing']"
   ]
  },
  {
   "cell_type": "markdown",
   "metadata": {},
   "source": [
    "Now let's create some data with both positive and negative negations, assuming `1` means positive and `0` means negative:"
   ]
  },
  {
   "cell_type": "code",
   "execution_count": 5,
   "metadata": {},
   "outputs": [],
   "source": [
    "ret = editor.template('This is not {a:pos} {thing}.', pos=pos, thing=thing,labels=0, save=True, nsamples=100)\n",
    "ret += editor.template('This is not {a:neg} {thing}.', neg=neg, thing=thing,labels=1, save=True, nsamples=100)"
   ]
  },
  {
   "cell_type": "markdown",
   "metadata": {},
   "source": [
    "We can easily turn this data into an MFT:"
   ]
  },
  {
   "cell_type": "code",
   "execution_count": 6,
   "metadata": {},
   "outputs": [],
   "source": [
    "test = MFT(ret.data, labels=ret.labels, name='Simple negation',\n",
    "           capability='Negation', description='Very simple negations.')"
   ]
  },
  {
   "cell_type": "markdown",
   "metadata": {},
   "source": [
    "### Running tests"
   ]
  },
  {
   "cell_type": "markdown",
   "metadata": {},
   "source": [
    "Let's use an off-the-shelf sentiment analysis model."
   ]
  },
  {
   "cell_type": "code",
   "execution_count": 7,
   "metadata": {},
   "outputs": [],
   "source": [
    "from pattern.en import sentiment"
   ]
  },
  {
   "cell_type": "code",
   "execution_count": 8,
   "metadata": {},
   "outputs": [],
   "source": [
    "import numpy as np\n",
    "def predict_proba(inputs):\n",
    "    p1 = np.array([(sentiment(x)[0] + 1)/2. for x in inputs]).reshape(-1, 1)\n",
    "    p0 = 1- p1\n",
    "    return np.hstack((p0, p1))"
   ]
  },
  {
   "cell_type": "markdown",
   "metadata": {},
   "source": [
    "There are two ways of running tests.  \n",
    "In the first (and simplest) way, you pass a function as argument to `test.run`, which gets called to make predictions.  \n",
    "We assume that the function returns a tuple with `(predictions, confidences)`, so we have a wrapper to turn softmax (like our function above) into this:"
   ]
  },
  {
   "cell_type": "code",
   "execution_count": 11,
   "metadata": {},
   "outputs": [],
   "source": [
    "from checklist.pred_wrapper import PredictorWrapper\n",
    "wrapped_pp = PredictorWrapper.wrap_softmax(predict_proba)"
   ]
  },
  {
   "cell_type": "markdown",
   "metadata": {},
   "source": [
    "Once you have this function, running the test is as simple as calling `test.run`.  \n",
    "You can run the test on a subset of testcases (for speed's sake) by specifying `n` if needed.  \n",
    "We won't do that here since our test is small)"
   ]
  },
  {
   "cell_type": "code",
   "execution_count": 13,
   "metadata": {},
   "outputs": [
    {
     "name": "stdout",
     "output_type": "stream",
     "text": [
      "Predicting 200 examples\n"
     ]
    }
   ],
   "source": [
    "test.run(wrapped_pp)"
   ]
  },
  {
   "cell_type": "markdown",
   "metadata": {},
   "source": [
    "Once you run a test, you can print a summary of the results with `test.summary()`"
   ]
  },
  {
   "cell_type": "code",
   "execution_count": 15,
   "metadata": {},
   "outputs": [
    {
     "name": "stdout",
     "output_type": "stream",
     "text": [
      "Test cases:      200\n",
      "Fails (rate):    121 (60.5%)\n",
      "\n",
      "Example fails:\n",
      "0.7 This is not an exciting movie.\n",
      "----\n",
      "0.5 This is not a sleep-inducing show.\n",
      "----\n",
      "1.0 This is not an excellent show.\n",
      "----\n"
     ]
    }
   ],
   "source": [
    "test.summary()"
   ]
  },
  {
   "cell_type": "markdown",
   "metadata": {},
   "source": [
    "It seems that this off-the-shelf system has trouble with negation.\n",
    "Note the failures: examples that should be negative are predicted as positive and vice versa (the number shown is the probability of positive)"
   ]
  },
  {
   "cell_type": "markdown",
   "metadata": {},
   "source": [
    "If you are using jupyter notebooks, you can use `test.visual_summary()` for a nice visualization version of these results:  \n",
    "(I'll load a gif so you can see this in preview mode)"
   ]
  },
  {
   "cell_type": "code",
   "execution_count": 16,
   "metadata": {},
   "outputs": [
    {
     "data": {
      "application/vnd.jupyter.widget-view+json": {
       "model_id": "918ab54d8e9b429980e7ac0f0205a69b",
       "version_major": 2,
       "version_minor": 0
      },
      "text/plain": [
       "TestSummarizer(stats={'npassed': 79, 'nfailed': 121, 'nfiltered': 0}, summarizer={'name': 'Simple negation', '…"
      ]
     },
     "metadata": {},
     "output_type": "display_data"
    }
   ],
   "source": [
    "# from IPython.display import HTML, Image\n",
    "# with open('visual_summary.gif','rb') as f:\n",
    "#     display(Image(data=f.read(), format='png'))\n",
    "test.visual_summary()"
   ]
  },
  {
   "cell_type": "markdown",
   "metadata": {},
   "source": [
    "The second way to run a test is from a prediction file.  \n",
    "First, we export the test into a text file:"
   ]
  },
  {
   "cell_type": "code",
   "execution_count": 17,
   "metadata": {},
   "outputs": [],
   "source": [
    "test.to_raw_file('/tmp/raw_file.txt')"
   ]
  },
  {
   "cell_type": "markdown",
   "metadata": {},
   "source": [
    "## Invariance tests"
   ]
  },
  {
   "cell_type": "markdown",
   "metadata": {},
   "source": [
    "An Invariance test (INV) is when we apply label-preserving perturbations to inputs and expect the model prediction to remain the same.  \n",
    "Let's start by creating a fictitious dataset to serve as an example, and process it with spacy"
   ]
  },
  {
   "cell_type": "code",
   "execution_count": 19,
   "metadata": {},
   "outputs": [],
   "source": [
    "import spacy\n",
    "nlp = spacy.load(\"en_core_web_sm\")"
   ]
  },
  {
   "cell_type": "code",
   "execution_count": 20,
   "metadata": {},
   "outputs": [],
   "source": [
    "dataset = ['This was a very nice movie directed by John Smith.',\n",
    "           'Mary Keen was brilliant.', \n",
    "          'I hated everything about this.',\n",
    "          'This movie was very bad.',\n",
    "          'I really liked this movie.',\n",
    "          'just bad.',\n",
    "          'amazing.',\n",
    "          ]\n",
    "pdataset = list(nlp.pipe(dataset))"
   ]
  },
  {
   "cell_type": "markdown",
   "metadata": {},
   "source": [
    "Now let's apply a simple perturbation: changing people's names and expecting predictions to remain the same:"
   ]
  },
  {
   "cell_type": "code",
   "execution_count": 21,
   "metadata": {},
   "outputs": [
    {
     "name": "stdout",
     "output_type": "stream",
     "text": [
      "This was a very nice movie directed by John Smith.\n",
      "This was a very nice movie directed by Michael James.\n",
      "This was a very nice movie directed by Christopher Ward.\n",
      "...\n"
     ]
    }
   ],
   "source": [
    "t = Perturb.perturb(pdataset, Perturb.change_names)\n",
    "print('\\n'.join(t.data[0][:3]))\n",
    "print('...')\n",
    "test = INV(**t)"
   ]
  },
  {
   "cell_type": "code",
   "execution_count": 22,
   "metadata": {},
   "outputs": [
    {
     "name": "stdout",
     "output_type": "stream",
     "text": [
      "Predicting 22 examples\n",
      "Test cases:      2\n",
      "Fails (rate):    0 (0.0%)\n"
     ]
    }
   ],
   "source": [
    "test.run(wrapped_pp)\n",
    "test.summary()"
   ]
  },
  {
   "cell_type": "markdown",
   "metadata": {},
   "source": [
    "Let's try a different test: adding typos and expecting predictions to remain the same"
   ]
  },
  {
   "cell_type": "code",
   "execution_count": 23,
   "metadata": {},
   "outputs": [
    {
     "name": "stdout",
     "output_type": "stream",
     "text": [
      "This was a very nice movie directed by John Smith.\n",
      "This was a very nice movie directed by John Smit.h\n",
      "...\n"
     ]
    }
   ],
   "source": [
    "t = Perturb.perturb(dataset, Perturb.add_typos)\n",
    "print('\\n'.join(t.data[0][:3]))\n",
    "print('...')\n",
    "test = INV(**t)"
   ]
  },
  {
   "cell_type": "code",
   "execution_count": 24,
   "metadata": {},
   "outputs": [
    {
     "name": "stdout",
     "output_type": "stream",
     "text": [
      "Predicting 14 examples\n",
      "Test cases:      7\n",
      "Fails (rate):    2 (28.6%)\n",
      "\n",
      "Example fails:\n",
      "0.8 amazing.\n",
      "0.5 amaizng.\n",
      "\n",
      "----\n",
      "0.9 Mary Keen was brilliant.\n",
      "0.5 Mary Keen was brilliatn.\n",
      "\n",
      "----\n"
     ]
    }
   ],
   "source": [
    "test.run(wrapped_pp)\n",
    "test.summary()"
   ]
  },
  {
   "cell_type": "code",
   "execution_count": 25,
   "metadata": {},
   "outputs": [
    {
     "name": "stdout",
     "output_type": "stream",
     "text": [
      "Cinderella is a beautiful film, with beautiful songs of course. In fact, it's one of the best films of the 1950's.<br /><br />I think all the characters are portrayed amazingly. You can see the cruelness of Cinderella's stepsisters and her stepmother, the sweetness of Cinderella. The mice are funny and sweet too.<br /><br />I think they changed the tale a bit, but I think it's for the best. It's such a nice film, and I don't think anyone could resist it deep down.<br /><br />I give it a 8/10. I don't think it's the best Disney film. But it sure is a true classic.\n",
      "HLOTS was an outstanding series, its what NYPD Blue will never be, on HLOTS the plots are real, the dialog is real, the Relationships are real. With HLOTS back as a movie, Tying up all the loose ends, it was good to have all the gang back together, even a few that passed away show up (wont say how) The storyline was fast paced, emotional and full of the spirit the series had week in and week out. Homicide , Life on the Streets, Network drama at Its BEST!!!! 5 STARS!!!! Thumbs UP and all That. Thanks NBC for giving us the Finally we didn't get!\n",
      "It was easy for Sir Richard Attenborough to make Gandhi (1982)he was merely narrating a story of a great individual who walked on this planet not so long ago. Comparatively, it must have been a lot tougher for director Feroz Abbas Khan making his debut as a filmmaker to make Gandhi my father, pitting a shriveled anti-hero against an international hero, both of whom were historically real individuals, and ironically father and son. The events in the film are mostly real. Mahatma Gandhi lived as shown in the film, setting high moral standards for the world to follow. Yet these very standards overshadowed the aspirations of his eldest son Harilal to be a lawyer of repute like his father, to complete his education and get a job in India and thus provide income for his nuclear family.<br /><br />The film does not debunk Gandhi and his ideals. For Gandhi, his mission was larger than his family's aspirations. He loved his family and cared for them, though his thoughts for their appeasement were blinkered by his ideal of caring for the masses. He stood for equality and dignity among all persons and in his view to give special undue advantages to his own son overlooking other deserving persons went against the basis of what he preached. The film looks at an unusual case of parentingwhere an idealist parent places receding goalposts for a less-than-brilliant offspring. <br /><br />The film presents an unusual scenario that happened. A son marries his childhood sweetheart, upsetting his father. The father upsets his son's educational aspirations at several key junctures. The fragile link between a devoted son and a father breaks, as the son wants to stand on his own feet and care for his nuclear family. While the father gradually becomes the father of a nation, the son stumbles in valiant quest for identity and survival. His marriage breaks and seeks solace in religion, buffeting between Islam and Hinduism. Through all his tribulations his link to his mother remains, until she chides him for being drunk.<br /><br />Feroz Khan is essentially a director of plays making his foray into cinema. He wrote and directed the play Mahatma vs. Gandhi that had considerable impact on the Indian theater community. The play and the consequent film were based on two biographies, one by Chandulal Dalal and another by Nilamben Parekh, The success of the staged play was an evident reason for the commercial Bollywood actor Anil Kapoor to produce this noteworthy film. Every time a good director of plays attempts to direct cinema there is an evidence of a lack of confidence with the medium. Peter Brook is a great director of plays, but less competent as a film director. The opening shots of Khan's film promises great cinemaa derelict Harilal Gandhi is brought to Sion Hospital, Bombay (Mumbai) barely mumbling that his father is Bapu (the popular name of Mahatma Gandhi), father to an entire nation. The hospital authorities do not recognize him to be Mahatma Gandhi's eldest son, dying in poverty and loneliness. Apart from the dramatic opening, the film unfortunately merely presents a great story and some superb exterior shots of father and son meditating in silhouette. For an Indian film it does present some high production qualities that go hand in hand with a lack of interest for details (the clothes of most Indians in the film seem dust-free and freshly laundered, modern hairstyles of actors, and even Shefali Shetty playing Mohandas Gandhi's wife a century ago with plucked eyebrows), the bane of Indian cinema. Since Feroz Khan is a theater personality, he has invested much more effort in working with the actors in developing the characters rather than on cinematic details, somewhat like Sir Attenborough another person who is also a product of theater (Royal Academy of Dramatic Arts).<br /><br />Knowing quite well that to criticize Gandhi in any manner was asking for trouble, even when there was no direct criticism in the film, producer Anil Kapoor took a remarkable decision of not putting up posters of the film at accessible heights in India, fearing that some one could tear the poster or disrespect it intentionally or unintentionally. <br /><br />With all its mix of greatness and faults, Gandhi, my father throws several questions at the viewer. Is a mother-son bonding stronger than a father-son bonding in parenting? Is one's immediate family less important than humanity at large? Does one seek refuge in religion and alcohol only when worldly troubles are encountered? In this film, Harilal buffeted by adversities runs from one religion to another, while his father quotes scriptures \"Forgive them for they know not what they do\" when beaten and thrown on the ground by a South African policeman, convinced of the value of religion and convincing others as well.<br /><br />The film won the Best actress award at the Tokyo International Film Festival for Shefali Shetty (Shah) and an Indian award from critics. Feroze Khan and Anil Kapoor have handled a sensitive subject very well and elicited above-average performances from the ensemble of actors. I do hope the international success of the film paves the way for some able director to film another brilliant Indian play Girish Karnad's Tughlaq some day meeting international quality standards.\n",
      "Most 70s (and 80s) Kong Kong martial arts films barely function as movies; usually there are a few well-planned fight sequences, but the plot is scraped pretty thin to fill in the gaps between those nodes -- like porno films, really.<br /><br />But this one does several things well. Most overtly, there is the direction and choreography, which confines each combatant to a 'style' -- it's really based on Chinese circus acrobatics and comedic theater, but the effect works.<br /><br />Second, there is the language of the camera, which uses some impressive techniques(even by today's measure), changing projection speeds from real time time to slow motion, and from unfiltered to filtered views to depict story direction toward the past or toward the future.<br /><br />Least overt, but most powerful and unexpected, is the construction. The winner of this contest is determined by who 'unfolds' the story. The master (the writer) sets up a game where the lead character doesn't know who he's seeking, which is the same situation we viewers find ourselves in. One by one, he figures out who is who, at the same rate we find out who is who. It all follows a tragedy/noir arc. The ending tends toward irony, a la \"The Sting\". Much more clever stuff than what we usually get out of this genre.<br /><br />The 'five venoms' idea is the template for Tarantino's 'deadly viper assassins' from the \"Kill Bill\" volumes.\n",
      "This is my third comment here attempting to connect two legendary movie comedy teams: Laurel & Hardy and Abbott & Costello. The connection here is the year 1940. That's the date that the former had their last movie from their longtime home studio of Hal Roach. I'll mention the significance of the latter later on. Besides being the last time Stan and Ollie worked at the Lot of Fun, it's also the final time they would appear with such familiar supporting players like Charlie Hall and James Finlayson who appeared in most of their films. It's also the last time Art Lloyd would serve as their cameraman and Marvin Hatley-who composed their theme song which would be known as \"The Cuckoo Song (Dance of the Cuckoos)\"-their score. And it would be the very last time Stan Laurel would be allowed to exercise complete creative control over what goes on film. If there is a more gag-laden structure than usual in this L & H film, it's nice to know most of those gags are indeed funny. That includes most of the sound and visual effects, the latter provided by longtime Roach staffer Roy Seawright. In this one, Ollie has \"hornophobia\" from working at a noisy horn factory so Dr. Finlayson prescribes going out to sea for his rest. Ollie doesn't like to go boating so Stan suggests they just rent one that's docked so they wouldn't have to go anywhere. After they find one they like, we find out that convict Nick Grainger (Richard Cramer) has just escaped...I'll stop there and say this was as good a finale for L & H's longtime home as one could hope for. It's hilarious mostly from beginning to end and knowing this would be their last for the man partly responsible for their teaming is indeed poignant when one thinks of it. Oh, and I have a couple more lasts to mention: it's the final film appearance of both Harry Bernard, who plays a harbor patrolman after years of encountering Stan and Ollie as a policeman, and that of Ben Turpin, the cross-eyed comic who was born in New Orleans which is a couple of hours away from my current hometown of Baton Rouge, whose second L & H appearance this was having previously \"married\" the boys in Our Wife. The latter performer especially has a genuine comic moment. All right, I mentioned 1940 being the year Stan and Ollie had their last movie released from Hal Roach Studios. It was also the first year that a comedy team, both born in the state of New Jersey, would make their first picture at what would be their home studio, Universal. The director of that movie would be the same one that guided L & H in The Flying Deuces the previous year. His name was A. Edward Sutherland. P.S. It was during this filming that script supervisor Virginia Lucille Jones had an accident involving a rolled-up carpet. That incident caused Oliver \"Babe\" Hardy to send her roses to her hospital room. They fell in love and married on March 7, 1940. It lasted until Babe's death in 1957.\n",
      "Hitokiri (which translates roughly as \"assassination\"), a/k/a \"Tenchu\" which translates roughly as \"divine punishment\") showcases Hideo Gosha at the top of his form. Do NOT miss this one, or Gosha's other classic, Goyokin! Hitokiri is not only one of Gosha's best films, it's one of the best \"samurai/chambara\" films ever made, and perhaps one of the best Japanese films ever exported.<br /><br />Be warned, all of the intricate plot details in Hitokiri can be a little hard to follow for those unfamiliar with 19th century Japanese history. Even so, the underlying human drama is obvious and open to all viewers. As per the norm for Gosha, Hitokiri provides yet another variation on his traditional theme of \"loyalty to one's lord\" vs. \"doing the right thing\". However, Gosha develops his favorite theme with such sophistication, that it's really _the_ movie to see (along with Goyokin, of course).<br /><br />I suppose it breaks down like this: If you want a simpler, more action-oriented tale, you might want to see Goyokin. However, if you want a more thoughtful, multilayered (albeit grim) drama, see this one.<br /><br />(OK, OK, essentially, the historical backdrop is a massive power grap between many different samurai clans who are either (1) working to reform, yet retain, the Tokugawa Shogunate, and (2) those who are trying to install the Emperor Meiji as the supreme ruler of Japan. Of course, those clans working \"for\" Emperor Meiji were often less interested in \"reforming\" Japan than in ensuring their own clan more power in the \"new world order\". Ironically, the entire feudal system was officially abolished as one of the first reforms of the Meiji government. It's ironic twists like this -- Gosha's big on irony -- that make the entire plot all the more bittersweet.)<br /><br />What distinguishes \"Hitokiri\" from Gosha's other movies is Gosha's mature sense of cinematography. Every shot is thoughtfully composed, and (much like Kubrick's Barry Lyndon) each frame of the movie could hold its own as a still composition. Of course, this is typical Gosha. Hitokiri really stands out with stunning backdrops, including(as with Goyokin) many riveting seascapes. Just watch the opening sequence, and you're hooked! Make no mistake, this is no English period piece: Hitokiri is extremely violent (don't say you weren't warned).<br /><br />What else, other than cool camera work, makes Hitokiri stand out? The performances seem (to me) a bit more subtle in this one. Katsu Shintaro (of Zatoichi/Hanzo the Razor fame) turns in a star performance as the conflicted protagonist/antihero, Okada Izo. Katsu manages to instill humanity to a character that seems almost more wild animal than villain. Throughout the movie, you're never quite sure if you're engaged or revolted by Okada's character. At the same time, Katsu's portrayal of Okada's ravenous hunger for respect, and his later pathetic attempts at redemption, seem so human that you can't help but feel empathy/sympathy. Of course, after seeing Nakadai Tatsuya play the tortured hero in \"Goyokin\", it's great to see him play such a ruthless villain in \"Hitokiri\". He's just perfect, there's nothing more to say!<br /><br />As a final note, perhaps more interesting to buffs than to casual fans, don't miss the last screen appearance of Mishima Yukio (yes, the closeted gay right-wing ultranationalist novelist who committed suicide by seppuku before the crowd of jeering Japanese military personnel he \"kidnapped\" in 1970, and had a movie on his life and work made by Paul Schrader), who actually does a pretty solid job of portraying the honorable (for an assassin) Shinbei Tanaka.\n"
     ]
    }
   ],
   "source": [
    "import csv\n",
    "r = csv.DictReader(open('data.csv'))\n",
    "inputs = []\n",
    "count=0\n",
    "# reasons = []\n",
    "for row in r:\n",
    "    review = row['review']\n",
    "    print(review)\n",
    "    count+=1\n",
    "    if(count>5):\n",
    "        break"
   ]
  },
  {
   "cell_type": "code",
   "execution_count": null,
   "metadata": {},
   "outputs": [],
   "source": []
  }
 ],
 "metadata": {
  "kernelspec": {
   "display_name": "Python 3 (ipykernel)",
   "language": "python",
   "name": "python3"
  },
  "language_info": {
   "codemirror_mode": {
    "name": "ipython",
    "version": 3
   },
   "file_extension": ".py",
   "mimetype": "text/x-python",
   "name": "python",
   "nbconvert_exporter": "python",
   "pygments_lexer": "ipython3",
   "version": "3.9.12"
  }
 },
 "nbformat": 4,
 "nbformat_minor": 2
}
